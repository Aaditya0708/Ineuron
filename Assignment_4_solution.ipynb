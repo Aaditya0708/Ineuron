{
 "cells": [
  {
   "cell_type": "markdown",
   "metadata": {},
   "source": [
    "1.1 Write a Python Program(with class concepts) to find the area of the triangle using the below\n",
    "formula.\n",
    "\n",
    "area = (s*(s-a)*(s-b)*(s-c)) ** 0.5\n",
    "\n",
    "Function to take the length of the sides of triangle from user should be defined in the parent\n",
    "class and function to calculate the area should be defined in subclass."
   ]
  },
  {
   "cell_type": "code",
   "execution_count": 1,
   "metadata": {},
   "outputs": [
    {
     "name": "stdout",
     "output_type": "stream",
     "text": [
      "a = 4\n",
      "b = 5\n",
      "c = 6\n",
      "Area of triangle : 9.921567416492215\n"
     ]
    }
   ],
   "source": [
    "\n",
    "class len_of_triangle():\n",
    "    \n",
    "    def __init__(self,a,b,c):\n",
    "        self.a = float(a)\n",
    "        self.b = float(b)\n",
    "        self.c = float(c)\n",
    "a = int(input('a = '))\n",
    "b = int(input('b = '))\n",
    "c = int(input('c = '))\n",
    "        \n",
    "class area_of_triangle(len_of_triangle):\n",
    "    def __init__(self,a,b,c):\n",
    "        super().__init__(a,b,c)\n",
    "    def calc_area(self):\n",
    "        s = (a+b+c)/2\n",
    "        return (s*(s-a)*(s-b)*(s-c)) ** 0.5\n",
    "\n",
    "# driver code\n",
    "t = area_of_triangle(a,b,c)\n",
    "print(\"Area of triangle : {}\".format(t.calc_area()))"
   ]
  },
  {
   "cell_type": "markdown",
   "metadata": {},
   "source": [
    "1.2 Write a function filter_long_words() that takes a list of words and an integer n and returns\n",
    "the list of words that are longer than n."
   ]
  },
  {
   "cell_type": "code",
   "execution_count": 3,
   "metadata": {},
   "outputs": [
    {
     "name": "stdout",
     "output_type": "stream",
     "text": [
      "Please input the list of words: Hi How are you\n",
      "Please input an integer: 2\n",
      "The list of words greater than integer is ['How', 'are', 'you']\n"
     ]
    }
   ],
   "source": [
    "def filter_long_words(words,n):\n",
    "    long_words = []\n",
    "    for i in range(len(words)):\n",
    "        if len(words[i])>n:\n",
    "            long_words.append(words[i])\n",
    "    return long_words\n",
    "            \n",
    "            \n",
    "#driver code\n",
    "words = input(\"Please input the list of words: \").split()\n",
    "n = eval(input(\"Please input an integer: \"))\n",
    "word = filter_long_words(words,n)\n",
    "print(\"The list of words greater than integer is\",word)"
   ]
  },
  {
   "cell_type": "markdown",
   "metadata": {},
   "source": [
    "2.1 Write a Python program using function concept that maps list of words into a list of integers\n",
    "representing the lengths of the corresponding words.\n",
    "Hint: If a list [ ab,cde,erty] is passed on to the python function output should come as [2,3,4]\n",
    "Here 2,3 and 4 are the lengths of the words in the list."
   ]
  },
  {
   "cell_type": "code",
   "execution_count": 4,
   "metadata": {},
   "outputs": [
    {
     "name": "stdout",
     "output_type": "stream",
     "text": [
      "Kindly enter a sentence: How are you doing\n",
      "The length of each word in the sentence is:  [3, 3, 3, 5]\n"
     ]
    }
   ],
   "source": [
    "def length_of_words(sent):\n",
    "    return list(map(lambda x:len(x),sent))   \n",
    "\n",
    "#driver code:\n",
    "def main():\n",
    "    sent = input('Kindly enter a sentence: ').split()\n",
    "    b = length_of_words(sent)\n",
    "    print('The length of each word in the sentence is: ',b)\n",
    "main()    "
   ]
  },
  {
   "cell_type": "markdown",
   "metadata": {},
   "source": [
    "2.2 Write a Python function which takes a character (i.e. a string of length 1) and returns True if\n",
    "it is a vowel, False otherwise.\n"
   ]
  },
  {
   "cell_type": "code",
   "execution_count": 5,
   "metadata": {},
   "outputs": [
    {
     "name": "stdout",
     "output_type": "stream",
     "text": [
      "Kindly enter a character: A\n",
      "True\n"
     ]
    }
   ],
   "source": [
    "def find_vowel(v):\n",
    "    a = ['a', 'e', 'i', 'o', 'u']\n",
    "    if len(v)==1:\n",
    "        if v in a:\n",
    "            return True\n",
    "        return False\n",
    "    else:\n",
    "        return ('More than one character entered')\n",
    "\n",
    "#driver code:\n",
    "def main():\n",
    "    v = input('Kindly enter a character: ').lower()\n",
    "    b = find_vowel(v)\n",
    "    print(b)\n",
    "main() "
   ]
  },
  {
   "cell_type": "code",
   "execution_count": null,
   "metadata": {},
   "outputs": [],
   "source": []
  }
 ],
 "metadata": {
  "kernelspec": {
   "display_name": "Python 3",
   "language": "python",
   "name": "python3"
  },
  "language_info": {
   "codemirror_mode": {
    "name": "ipython",
    "version": 3
   },
   "file_extension": ".py",
   "mimetype": "text/x-python",
   "name": "python",
   "nbconvert_exporter": "python",
   "pygments_lexer": "ipython3",
   "version": "3.7.6"
  }
 },
 "nbformat": 4,
 "nbformat_minor": 4
}
